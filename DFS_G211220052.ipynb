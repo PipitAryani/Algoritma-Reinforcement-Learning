{
  "nbformat": 4,
  "nbformat_minor": 0,
  "metadata": {
    "colab": {
      "provenance": [],
      "authorship_tag": "ABX9TyNNbO5isQBWE4o+iRX2Wl8H",
      "include_colab_link": true
    },
    "kernelspec": {
      "name": "python3",
      "display_name": "Python 3"
    },
    "language_info": {
      "name": "python"
    }
  },
  "cells": [
    {
      "cell_type": "markdown",
      "metadata": {
        "id": "view-in-github",
        "colab_type": "text"
      },
      "source": [
        "<a href=\"https://colab.research.google.com/github/PipitAryani/Algoritma-Reinforcement-Learning/blob/main/DFS_G211220052.ipynb\" target=\"_parent\"><img src=\"https://colab.research.google.com/assets/colab-badge.svg\" alt=\"Open In Colab\"/></a>"
      ]
    },
    {
      "cell_type": "code",
      "source": [
        "peta = {'A': set(['B']),\n",
        "        'B': set(['C', 'A']),\n",
        "        'C': set(['H', 'B', 'I', 'D']),\n",
        "        'D': set(['C', 'E', 'H', 'F']),\n",
        "        'E': set(['D']),\n",
        "        'F': set(['D', 'G']),\n",
        "        'G': set(['F', 'H']),\n",
        "        'H': set(['L', 'C', 'G', 'D']),\n",
        "        'I': set(['C', 'J', 'K']),\n",
        "        'J': set(['I']),\n",
        "        'K': set(['L', 'I']),\n",
        "        'L': set(['K', 'H'])}\n",
        "\n",
        "def dfs(graph, mulai, goal):\n",
        "    explored = []\n",
        "    stack = [[mulai]]\n",
        "\n",
        "    if mulai == goal:\n",
        "        return mulai\n",
        "\n",
        "    while stack:\n",
        "        jalur = stack.pop()\n",
        "        node = jalur[-1]\n",
        "\n",
        "        if node not in explored:\n",
        "            neighbours = graph[node]\n",
        "            for neighbour in neighbours:\n",
        "                jalur_baru = list(jalur)\n",
        "                jalur_baru.append(neighbour)\n",
        "                stack.append(jalur_baru)\n",
        "\n",
        "                if neighbour == goal:\n",
        "                    return ''.join(jalur_baru)\n",
        "\n",
        "            explored.append(node)\n",
        "\n",
        "    return \"Mohon maaf, tidak ada jalur yang ditemukan.\"\n",
        "\n",
        "awal = input(\"Masukkan awal: \")\n",
        "tujuan = input(\"Masukkan Akhir: \")\n",
        "\n",
        "hasil = dfs(peta, awal, tujuan)\n",
        "print(\"Jalur yang ditemukan:\", hasil)\n"
      ],
      "metadata": {
        "colab": {
          "base_uri": "https://localhost:8080/"
        },
        "id": "jVTVyaM65n60",
        "outputId": "cda3d3d3-f8e3-4250-c373-6a1dd353f3a8"
      },
      "execution_count": 2,
      "outputs": [
        {
          "output_type": "stream",
          "name": "stdout",
          "text": [
            "Masukkan awal: B\n",
            "Masukkan Akhir: C\n",
            "Jalur yang ditemukan: BC\n"
          ]
        }
      ]
    },
    {
      "cell_type": "markdown",
      "source": [
        "#TUGAS PRAKTIKUM"
      ],
      "metadata": {
        "id": "89G5A6Sm1lHW"
      }
    },
    {
      "cell_type": "code",
      "source": [
        "graph = {\n",
        "    'A': ['B', 'C'],\n",
        "    'B': ['S', 'C'],\n",
        "    'C': ['D', 'E'],\n",
        "    'D': ['S'],\n",
        "    'E': [],\n",
        "    'F': ['G', 'H'],\n",
        "    'G': ['C'],\n",
        "    'H': ['F'],\n",
        "    'S': [],\n",
        "}\n",
        "\n",
        "def dfs(graph, start):\n",
        "    visited = set()\n",
        "    stack = [start]\n",
        "    result = \"\"\n",
        "\n",
        "    while stack:\n",
        "        node = stack.pop()\n",
        "        if node not in visited:\n",
        "            result += node\n",
        "            visited.add(node)\n",
        "            stack.extend(reversed(graph.get(node, [])))\n",
        "\n",
        "    return result\n",
        "\n",
        "# Masukkan input \"A\" sebagai node awal\n",
        "input_node = 'A'\n",
        "output = dfs(graph, input_node)\n",
        "print(output)\n"
      ],
      "metadata": {
        "colab": {
          "base_uri": "https://localhost:8080/"
        },
        "id": "WZK__sFCz-So",
        "outputId": "7da77c13-63d4-417d-e75b-220a081ea209"
      },
      "execution_count": 6,
      "outputs": [
        {
          "output_type": "stream",
          "name": "stdout",
          "text": [
            "ABSCDE\n"
          ]
        }
      ]
    }
  ]
}